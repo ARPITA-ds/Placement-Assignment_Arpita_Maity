{
 "cells": [
  {
   "cell_type": "code",
   "execution_count": 1,
   "id": "828a4957",
   "metadata": {},
   "outputs": [],
   "source": [
    "#QUESTION-01\n",
    "def findPermutation(s):\n",
    "    n = len(s)\n",
    "    perm = []\n",
    "    low, high = 0, n\n",
    "    \n",
    "    for ch in s:\n",
    "        if ch == 'I':\n",
    "            perm.append(low)\n",
    "            low += 1\n",
    "        elif ch == 'D':\n",
    "            perm.append(high)\n",
    "            high -= 1\n",
    "    \n",
    "    perm.append(low)  # Append the remaining value (low == high)\n",
    "    \n",
    "    return perm\n"
   ]
  },
  {
   "cell_type": "code",
   "execution_count": 2,
   "id": "c2259396",
   "metadata": {},
   "outputs": [
    {
     "name": "stdout",
     "output_type": "stream",
     "text": [
      "[0, 4, 1, 3, 2]\n"
     ]
    }
   ],
   "source": [
    "s = \"IDID\"\n",
    "print(findPermutation(s))"
   ]
  },
  {
   "cell_type": "code",
   "execution_count": 3,
   "id": "570dda68",
   "metadata": {},
   "outputs": [],
   "source": [
    "#QUESTION-02\n",
    "def searchMatrix(matrix, target):\n",
    "    rows = len(matrix)\n",
    "    cols = len(matrix[0])\n",
    "    left = 0\n",
    "    right = rows * cols - 1\n",
    "\n",
    "    while left <= right:\n",
    "        mid = (left + right) // 2\n",
    "        element = matrix[mid // cols][mid % cols]\n",
    "\n",
    "        if target == element:\n",
    "            return True\n",
    "        elif target < element:\n",
    "            right = mid - 1\n",
    "        else:\n",
    "            left = mid + 1\n",
    "\n",
    "    return False\n"
   ]
  },
  {
   "cell_type": "code",
   "execution_count": 4,
   "id": "1effa0a4",
   "metadata": {},
   "outputs": [
    {
     "name": "stdout",
     "output_type": "stream",
     "text": [
      "True\n"
     ]
    }
   ],
   "source": [
    "matrix = [[1, 3, 5, 7], [10, 11, 16, 20], [23, 30, 34, 60]]\n",
    "target = 3\n",
    "print(searchMatrix(matrix, target))  # Output: True\n"
   ]
  },
  {
   "cell_type": "code",
   "execution_count": 5,
   "id": "e0dc3899",
   "metadata": {},
   "outputs": [],
   "source": [
    "#QUESTION-03\n",
    "def validMountainArray(arr):\n",
    "    n = len(arr)\n",
    "    \n",
    "    if n < 3:\n",
    "        return False\n",
    "    \n",
    "    peak = 0\n",
    "    while peak < n - 1 and arr[peak] < arr[peak + 1]:\n",
    "        peak += 1\n",
    "    \n",
    "    if peak == 0 or peak == n - 1:\n",
    "        return False\n",
    "    \n",
    "    for i in range(1, peak + 1):\n",
    "        if arr[i] <= arr[i - 1]:\n",
    "            return False\n",
    "    \n",
    "    for i in range(peak + 1, n):\n",
    "        if arr[i] >= arr[i - 1]:\n",
    "            return False\n",
    "    \n",
    "    return True\n"
   ]
  },
  {
   "cell_type": "code",
   "execution_count": 6,
   "id": "3928d84c",
   "metadata": {},
   "outputs": [
    {
     "name": "stdout",
     "output_type": "stream",
     "text": [
      "False\n"
     ]
    }
   ],
   "source": [
    "arr = [2, 1]\n",
    "print(validMountainArray(arr))  # Output: False\n"
   ]
  },
  {
   "cell_type": "code",
   "execution_count": 7,
   "id": "e8ccb2ea",
   "metadata": {},
   "outputs": [],
   "source": [
    "#QUESTION-04\n",
    "def findMaxLength(nums):\n",
    "    max_length = 0\n",
    "    prefix_sums = {0: -1}\n",
    "    count = 0\n",
    "\n",
    "    for i in range(len(nums)):\n",
    "        count += 1 if nums[i] == 1 else -1\n",
    "\n",
    "        if count in prefix_sums:\n",
    "            max_length = max(max_length, i - prefix_sums[count])\n",
    "        else:\n",
    "            prefix_sums[count] = i\n",
    "\n",
    "    return max_length\n"
   ]
  },
  {
   "cell_type": "code",
   "execution_count": 8,
   "id": "ac0e0767",
   "metadata": {},
   "outputs": [
    {
     "name": "stdout",
     "output_type": "stream",
     "text": [
      "2\n"
     ]
    }
   ],
   "source": [
    "nums = [0, 1]\n",
    "print(findMaxLength(nums))  # Output: 2\n"
   ]
  },
  {
   "cell_type": "code",
   "execution_count": 9,
   "id": "085b9a38",
   "metadata": {},
   "outputs": [],
   "source": [
    "#QUESTION-05\n",
    "def minProductSum(nums1, nums2):\n",
    "    nums1.sort()\n",
    "    nums2.sort()\n",
    "    \n",
    "    min_product_sum = float('inf')\n",
    "    \n",
    "    for i in range(len(nums1)):\n",
    "        min_product_sum = min(min_product_sum, nums1[i] * nums2[len(nums2) - 1 - i])\n",
    "    \n",
    "    return min_product_sum\n"
   ]
  },
  {
   "cell_type": "code",
   "execution_count": 10,
   "id": "5914cc75",
   "metadata": {},
   "outputs": [
    {
     "name": "stdout",
     "output_type": "stream",
     "text": [
      "8\n"
     ]
    }
   ],
   "source": [
    "nums1 = [5, 3, 4, 2]\n",
    "nums2 = [4, 2, 2, 5]\n",
    "print(minProductSum(nums1, nums2))  # Output: 40\n"
   ]
  },
  {
   "cell_type": "code",
   "execution_count": 11,
   "id": "d3a758dc",
   "metadata": {},
   "outputs": [],
   "source": [
    "#QUESTION-06\n",
    "def findOriginalArray(changed):\n",
    "    count_map = {}\n",
    "    for num in changed:\n",
    "        count_map[num] = count_map.get(num, 0) + 1\n",
    "\n",
    "    changed.sort()\n",
    "    original = []\n",
    "    for num in changed:\n",
    "        if count_map.get(num, 0) == 0:\n",
    "            continue\n",
    "        if count_map.get(num, 0) > 0 and count_map.get(2 * num, 0) > 0:\n",
    "            original.append(num)\n",
    "            count_map[num] -= 1\n",
    "            count_map[2 * num] -= 1\n",
    "        else:\n",
    "            return []\n",
    "\n",
    "    return original\n"
   ]
  },
  {
   "cell_type": "code",
   "execution_count": 12,
   "id": "8372321f",
   "metadata": {},
   "outputs": [
    {
     "name": "stdout",
     "output_type": "stream",
     "text": [
      "[1, 3, 4]\n"
     ]
    }
   ],
   "source": [
    "changed = [1, 3, 4, 2, 6, 8]\n",
    "print(findOriginalArray(changed))  # Output: [1, 3, 4]\n"
   ]
  },
  {
   "cell_type": "code",
   "execution_count": 13,
   "id": "27b78821",
   "metadata": {},
   "outputs": [],
   "source": [
    "#QUESTION-07\n",
    "def generateMatrix(n):\n",
    "    result = [[0] * n for _ in range(n)]\n",
    "    row_start, row_end = 0, n - 1\n",
    "    col_start, col_end = 0, n - 1\n",
    "    num = 1\n",
    "\n",
    "    while num <= n * n and row_start <= row_end and col_start <= col_end:\n",
    "        for col in range(col_start, col_end + 1):\n",
    "            result[row_start][col] = num\n",
    "            num += 1\n",
    "        row_start += 1\n",
    "\n",
    "        for row in range(row_start, row_end + 1):\n",
    "            result[row][col_end] = num\n",
    "            num += 1\n",
    "        col_end -= 1\n",
    "\n",
    "        if row_start <= row_end and col_start <= col_end:\n",
    "            for col in range(col_end, col_start - 1, -1):\n",
    "                result[row_end][col] = num\n",
    "                num += 1\n",
    "            row_end -= 1\n",
    "\n",
    "            for row in range(row_end, row_start - 1, -1):\n",
    "                result[row][col_start] = num\n",
    "                num += 1\n",
    "            col_start += 1\n",
    "\n",
    "    return result\n"
   ]
  },
  {
   "cell_type": "code",
   "execution_count": 14,
   "id": "6b4c089c",
   "metadata": {},
   "outputs": [
    {
     "name": "stdout",
     "output_type": "stream",
     "text": [
      "[[1, 2, 3], [8, 9, 4], [7, 6, 5]]\n"
     ]
    }
   ],
   "source": [
    "n = 3\n",
    "print(generateMatrix(n))\n"
   ]
  },
  {
   "cell_type": "code",
   "execution_count": 15,
   "id": "4165b615",
   "metadata": {},
   "outputs": [],
   "source": [
    "#QUESTION-8\n",
    "def multiply(mat1, mat2):\n",
    "    m, k, n = len(mat1), len(mat1[0]), len(mat2[0])\n",
    "    result = [[0] * n for _ in range(m)]\n",
    "\n",
    "    for i in range(m):\n",
    "        for j in range(n):\n",
    "            for k in range(k):\n",
    "                if mat1[i][k] != 0 and mat2[k][j] != 0:\n",
    "                    result[i][j] += mat1[i][k] * mat2[k][j]\n",
    "\n",
    "    return result\n"
   ]
  },
  {
   "cell_type": "code",
   "execution_count": 16,
   "id": "987b5325",
   "metadata": {},
   "outputs": [
    {
     "name": "stdout",
     "output_type": "stream",
     "text": [
      "[[7, 0, 0], [0, 0, 0]]\n"
     ]
    }
   ],
   "source": [
    "mat1 = [[1, 0, 0], [-1, 0, 3]]\n",
    "mat2 = [[7, 0, 0], [0, 0, 0], [0, 0, 1]]\n",
    "print(multiply(mat1, mat2))\n"
   ]
  },
  {
   "cell_type": "code",
   "execution_count": null,
   "id": "4d51be14",
   "metadata": {},
   "outputs": [],
   "source": []
  }
 ],
 "metadata": {
  "kernelspec": {
   "display_name": "Python 3 (ipykernel)",
   "language": "python",
   "name": "python3"
  },
  "language_info": {
   "codemirror_mode": {
    "name": "ipython",
    "version": 3
   },
   "file_extension": ".py",
   "mimetype": "text/x-python",
   "name": "python",
   "nbconvert_exporter": "python",
   "pygments_lexer": "ipython3",
   "version": "3.9.7"
  }
 },
 "nbformat": 4,
 "nbformat_minor": 5
}
