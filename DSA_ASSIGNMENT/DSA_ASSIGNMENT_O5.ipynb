{
 "cells": [
  {
   "cell_type": "code",
   "execution_count": 1,
   "id": "92bfd0fc",
   "metadata": {},
   "outputs": [],
   "source": [
    "#QUESTION-01\n",
    "def convert_1d_to_2d(original, m, n):\n",
    "    if m * n != len(original):\n",
    "        return []  # Return empty array if it is impossible to form the 2D array\n",
    "    \n",
    "    result = []\n",
    "    for i in range(m):\n",
    "        row = original[i * n : (i + 1) * n]\n",
    "        result.append(row)\n",
    "    \n",
    "    return result\n"
   ]
  },
  {
   "cell_type": "code",
   "execution_count": 2,
   "id": "893e7c3d",
   "metadata": {},
   "outputs": [
    {
     "name": "stdout",
     "output_type": "stream",
     "text": [
      "[[1, 2], [3, 4]]\n"
     ]
    }
   ],
   "source": [
    "original = [1, 2, 3, 4]\n",
    "m = 2\n",
    "n = 2\n",
    "result = convert_1d_to_2d(original, m, n)\n",
    "print(result)\n"
   ]
  },
  {
   "cell_type": "code",
   "execution_count": 3,
   "id": "2505e24e",
   "metadata": {},
   "outputs": [],
   "source": [
    "#QUESTION-02\n",
    "def complete_staircase_rows(n):\n",
    "    k = 0\n",
    "    while k * (k + 1) // 2 <= n:\n",
    "        k += 1\n",
    "    \n",
    "    return k - 1\n"
   ]
  },
  {
   "cell_type": "code",
   "execution_count": 4,
   "id": "c4219b2b",
   "metadata": {},
   "outputs": [
    {
     "name": "stdout",
     "output_type": "stream",
     "text": [
      "2\n"
     ]
    }
   ],
   "source": [
    "n = 5\n",
    "result = complete_staircase_rows(n)\n",
    "print(result)\n"
   ]
  },
  {
   "cell_type": "code",
   "execution_count": 5,
   "id": "a5d29d3a",
   "metadata": {},
   "outputs": [],
   "source": [
    "#QUESTION-03\n",
    "def sorted_squares(nums):\n",
    "    squared_nums = [num ** 2 for num in nums]  # Square each number\n",
    "    sorted_squared_nums = sorted(squared_nums)  # Sort the squared values in non-decreasing order\n",
    "    return sorted_squared_nums\n"
   ]
  },
  {
   "cell_type": "code",
   "execution_count": 6,
   "id": "61ca3f7d",
   "metadata": {},
   "outputs": [
    {
     "name": "stdout",
     "output_type": "stream",
     "text": [
      "[0, 1, 9, 16, 100]\n"
     ]
    }
   ],
   "source": [
    "nums = [-4, -1, 0, 3, 10]\n",
    "result = sorted_squares(nums)\n",
    "print(result)\n"
   ]
  },
  {
   "cell_type": "code",
   "execution_count": 7,
   "id": "04b2ff69",
   "metadata": {},
   "outputs": [],
   "source": [
    "#QUESTION-04\n",
    "def find_disjoint(nums1, nums2):\n",
    "    set1 = set(nums1)\n",
    "    set2 = set(nums2)\n",
    "    diff1 = list(set1 - set2)\n",
    "    diff2 = list(set2 - set1)\n",
    "    return [diff1, diff2]\n"
   ]
  },
  {
   "cell_type": "code",
   "execution_count": 8,
   "id": "acb617a2",
   "metadata": {},
   "outputs": [
    {
     "name": "stdout",
     "output_type": "stream",
     "text": [
      "[[1, 3], [4, 6]]\n"
     ]
    }
   ],
   "source": [
    "nums1 = [1, 2, 3]\n",
    "nums2 = [2, 4, 6]\n",
    "result = find_disjoint(nums1, nums2)\n",
    "print(result)\n"
   ]
  },
  {
   "cell_type": "code",
   "execution_count": 9,
   "id": "f6875c2e",
   "metadata": {},
   "outputs": [],
   "source": [
    "#QUESTION-05\n",
    "def distance_value(arr1, arr2, d):\n",
    "    distance = 0\n",
    "    \n",
    "    for num1 in arr1:\n",
    "        found = False\n",
    "        for num2 in arr2:\n",
    "            if abs(num1 - num2) <= d:\n",
    "                found = True\n",
    "                break\n",
    "        if not found:\n",
    "            distance += 1\n",
    "    \n",
    "    return distance\n"
   ]
  },
  {
   "cell_type": "code",
   "execution_count": 10,
   "id": "7983fddb",
   "metadata": {},
   "outputs": [
    {
     "name": "stdout",
     "output_type": "stream",
     "text": [
      "2\n"
     ]
    }
   ],
   "source": [
    "arr1 = [4, 5, 8]\n",
    "arr2 = [10, 9, 1, 8]\n",
    "d = 2\n",
    "result = distance_value(arr1, arr2, d)\n",
    "print(result)\n"
   ]
  },
  {
   "cell_type": "code",
   "execution_count": 11,
   "id": "6104fbcd",
   "metadata": {},
   "outputs": [],
   "source": [
    "#QUESTION-06\n",
    "def find_duplicates(nums):\n",
    "    result = []\n",
    "    \n",
    "    for num in nums:\n",
    "        if nums[abs(num) - 1] > 0:\n",
    "            nums[abs(num) - 1] *= -1\n",
    "        else:\n",
    "            result.append(abs(num))\n",
    "    \n",
    "    return result\n"
   ]
  },
  {
   "cell_type": "code",
   "execution_count": 12,
   "id": "7b8493fc",
   "metadata": {},
   "outputs": [
    {
     "name": "stdout",
     "output_type": "stream",
     "text": [
      "[2, 3]\n"
     ]
    }
   ],
   "source": [
    "nums = [4, 3, 2, 7, 8, 2, 3, 1]\n",
    "result = find_duplicates(nums)\n",
    "print(result)\n"
   ]
  },
  {
   "cell_type": "code",
   "execution_count": 13,
   "id": "1b6e183d",
   "metadata": {},
   "outputs": [],
   "source": [
    "#QUESTION-07\n",
    "def find_minimum(nums):\n",
    "    left = 0\n",
    "    right = len(nums) - 1\n",
    "    \n",
    "    while left < right:\n",
    "        middle = (left + right) // 2\n",
    "        if nums[middle] > nums[right]:\n",
    "            left = middle + 1\n",
    "        else:\n",
    "            right = middle\n",
    "    \n",
    "    return nums[left]\n"
   ]
  },
  {
   "cell_type": "code",
   "execution_count": 14,
   "id": "83f8f58e",
   "metadata": {},
   "outputs": [
    {
     "name": "stdout",
     "output_type": "stream",
     "text": [
      "1\n"
     ]
    }
   ],
   "source": [
    "nums = [3, 4, 5, 1, 2]\n",
    "result = find_minimum(nums)\n",
    "print(result)\n"
   ]
  },
  {
   "cell_type": "code",
   "execution_count": 17,
   "id": "5a7a5032",
   "metadata": {},
   "outputs": [],
   "source": [
    "#QUESTION-08\n",
    "from collections import defaultdict\n",
    "\n",
    "def find_original(changed):\n",
    "    changed.sort()\n",
    "    count = defaultdict(int)\n",
    "    \n",
    "    for num in changed:\n",
    "        count[num] += 1\n",
    "    \n",
    "    original = []\n",
    "    \n",
    "    for num in changed:\n",
    "        if num % 2 != 0 or count[num/2] == 0:\n",
    "            return []\n",
    "        count[num/2] -= 1\n",
    "        original.append(num/2)\n",
    "    \n",
    "    return original\n"
   ]
  },
  {
   "cell_type": "code",
   "execution_count": 18,
   "id": "44a33b1c",
   "metadata": {},
   "outputs": [
    {
     "name": "stdout",
     "output_type": "stream",
     "text": [
      "[]\n"
     ]
    }
   ],
   "source": [
    "changed = [1, 3, 4, 2, 6, 8]\n",
    "result = find_original(changed)\n",
    "print(result)\n"
   ]
  },
  {
   "cell_type": "code",
   "execution_count": null,
   "id": "c742fd87",
   "metadata": {},
   "outputs": [],
   "source": []
  }
 ],
 "metadata": {
  "kernelspec": {
   "display_name": "Python 3 (ipykernel)",
   "language": "python",
   "name": "python3"
  },
  "language_info": {
   "codemirror_mode": {
    "name": "ipython",
    "version": 3
   },
   "file_extension": ".py",
   "mimetype": "text/x-python",
   "name": "python",
   "nbconvert_exporter": "python",
   "pygments_lexer": "ipython3",
   "version": "3.9.7"
  }
 },
 "nbformat": 4,
 "nbformat_minor": 5
}
