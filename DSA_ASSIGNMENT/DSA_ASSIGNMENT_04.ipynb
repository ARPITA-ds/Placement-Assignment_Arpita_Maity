{
 "cells": [
  {
   "cell_type": "code",
   "execution_count": 1,
   "id": "05aa3203",
   "metadata": {},
   "outputs": [],
   "source": [
    "#QUESTION-01\n",
    "def find_common_elements(arr1, arr2, arr3):\n",
    "    p1, p2, p3 = 0, 0, 0\n",
    "    result = []\n",
    "    \n",
    "    while p1 < len(arr1) and p2 < len(arr2) and p3 < len(arr3):\n",
    "        if arr1[p1] == arr2[p2] == arr3[p3]:\n",
    "            result.append(arr1[p1])\n",
    "            p1 += 1\n",
    "            p2 += 1\n",
    "            p3 += 1\n",
    "        elif arr1[p1] < arr2[p2]:\n",
    "            p1 += 1\n",
    "        elif arr2[p2] < arr3[p3]:\n",
    "            p2 += 1\n",
    "        else:\n",
    "            p3 += 1\n",
    "    \n",
    "    return result\n"
   ]
  },
  {
   "cell_type": "code",
   "execution_count": 2,
   "id": "60115352",
   "metadata": {},
   "outputs": [
    {
     "name": "stdout",
     "output_type": "stream",
     "text": [
      "[1, 5]\n"
     ]
    }
   ],
   "source": [
    "arr1 = [1, 2, 3, 4, 5]\n",
    "arr2 = [1, 2, 5, 7, 9]\n",
    "arr3 = [1, 3, 4, 5, 8]\n",
    "result = find_common_elements(arr1, arr2, arr3)\n",
    "print(result)\n"
   ]
  },
  {
   "cell_type": "code",
   "execution_count": 3,
   "id": "6f5741a5",
   "metadata": {},
   "outputs": [],
   "source": [
    "#QUESTION-02\n",
    "def find_missing_elements(nums1, nums2):\n",
    "    set1 = set(nums1)\n",
    "    set2 = set(nums2)\n",
    "    \n",
    "    not_in_nums2 = [num for num in nums1 if num not in set2]\n",
    "    not_in_nums1 = [num for num in nums2 if num not in set1]\n",
    "    \n",
    "    return [not_in_nums1, not_in_nums2]\n"
   ]
  },
  {
   "cell_type": "code",
   "execution_count": 4,
   "id": "1fada957",
   "metadata": {},
   "outputs": [
    {
     "name": "stdout",
     "output_type": "stream",
     "text": [
      "[[4, 6], [1, 3]]\n"
     ]
    }
   ],
   "source": [
    "nums1 = [1, 2, 3]\n",
    "nums2 = [2, 4, 6]\n",
    "answer = find_missing_elements(nums1, nums2)\n",
    "print(answer)\n"
   ]
  },
  {
   "cell_type": "code",
   "execution_count": 5,
   "id": "a4c552a7",
   "metadata": {},
   "outputs": [],
   "source": [
    "#QUESTION-03\n",
    "def transpose_matrix(matrix):\n",
    "    rows = len(matrix)\n",
    "    columns = len(matrix[0])\n",
    "    \n",
    "    result = [[0] * rows for _ in range(columns)]\n",
    "    \n",
    "    for row in range(rows):\n",
    "        for column in range(columns):\n",
    "            result[column][row] = matrix[row][column]\n",
    "    \n",
    "    return result\n"
   ]
  },
  {
   "cell_type": "code",
   "execution_count": 6,
   "id": "bc409895",
   "metadata": {},
   "outputs": [
    {
     "name": "stdout",
     "output_type": "stream",
     "text": [
      "[[1, 4, 7], [2, 5, 8], [3, 6, 9]]\n"
     ]
    }
   ],
   "source": [
    "matrix = [[1, 2, 3], [4, 5, 6], [7, 8, 9]]\n",
    "transposed_matrix = transpose_matrix(matrix)\n",
    "print(transposed_matrix)\n"
   ]
  },
  {
   "cell_type": "code",
   "execution_count": 7,
   "id": "8fc92e25",
   "metadata": {},
   "outputs": [],
   "source": [
    "#QUESTION-04\n",
    "def array_pair_sum(nums):\n",
    "    nums.sort()\n",
    "    max_sum = 0\n",
    "    \n",
    "    for i in range(0, len(nums), 2):\n",
    "        max_sum += min(nums[i], nums[i+1])\n",
    "    \n",
    "    return max_sum\n"
   ]
  },
  {
   "cell_type": "code",
   "execution_count": 8,
   "id": "3ce7249c",
   "metadata": {},
   "outputs": [
    {
     "name": "stdout",
     "output_type": "stream",
     "text": [
      "4\n"
     ]
    }
   ],
   "source": [
    "nums = [1, 4, 3, 2]\n",
    "max_sum = array_pair_sum(nums)\n",
    "print(max_sum)\n"
   ]
  },
  {
   "cell_type": "code",
   "execution_count": 9,
   "id": "66ca5bb3",
   "metadata": {},
   "outputs": [],
   "source": [
    "#QUESTION-05\n",
    "def arrange_coins(n):\n",
    "    row = 1\n",
    "    \n",
    "    while n >= row:\n",
    "        n -= row\n",
    "        row += 1\n",
    "    \n",
    "    return row - 1\n"
   ]
  },
  {
   "cell_type": "code",
   "execution_count": 10,
   "id": "04913031",
   "metadata": {},
   "outputs": [
    {
     "name": "stdout",
     "output_type": "stream",
     "text": [
      "2\n"
     ]
    }
   ],
   "source": [
    "n = 5\n",
    "num_complete_rows = arrange_coins(n)\n",
    "print(num_complete_rows)\n"
   ]
  },
  {
   "cell_type": "code",
   "execution_count": 11,
   "id": "35777bb2",
   "metadata": {},
   "outputs": [],
   "source": [
    "#QUESTION-06\n",
    "def sorted_squares(nums):\n",
    "    squared_nums = [num ** 2 for num in nums]\n",
    "    squared_nums.sort()\n",
    "    return squared_nums\n"
   ]
  },
  {
   "cell_type": "code",
   "execution_count": 12,
   "id": "c4f44619",
   "metadata": {},
   "outputs": [
    {
     "name": "stdout",
     "output_type": "stream",
     "text": [
      "[0, 1, 9, 16, 100]\n"
     ]
    }
   ],
   "source": [
    "nums = [-4, -1, 0, 3, 10]\n",
    "squared_values = sorted_squares(nums)\n",
    "print(squared_values)\n"
   ]
  },
  {
   "cell_type": "code",
   "execution_count": 13,
   "id": "6ce01c1a",
   "metadata": {},
   "outputs": [],
   "source": [
    "#QUESTION-07\n",
    "def max_count(m, n, ops):\n",
    "    min_row = m\n",
    "    min_col = n\n",
    "    \n",
    "    for op in ops:\n",
    "        min_row = min(min_row, op[0])\n",
    "        min_col = min(min_col, op[1])\n",
    "    \n",
    "    return min_row * min_col\n"
   ]
  },
  {
   "cell_type": "code",
   "execution_count": 14,
   "id": "714ff616",
   "metadata": {},
   "outputs": [
    {
     "name": "stdout",
     "output_type": "stream",
     "text": [
      "4\n"
     ]
    }
   ],
   "source": [
    "m = 3\n",
    "n = 3\n",
    "ops = [[2, 2], [3, 3]]\n",
    "max_integers = max_count(m, n, ops)\n",
    "print(max_integers)\n"
   ]
  },
  {
   "cell_type": "code",
   "execution_count": 15,
   "id": "2db8f17d",
   "metadata": {},
   "outputs": [],
   "source": [
    "#QUESTION-08\n",
    "def shuffle_array(nums, n):\n",
    "    x = nums[:n]\n",
    "    y = nums[n:]\n",
    "    result = []\n",
    "    \n",
    "    for i in range(n):\n",
    "        result.append(x[i])\n",
    "        result.append(y[i])\n",
    "    \n",
    "    return result\n"
   ]
  },
  {
   "cell_type": "code",
   "execution_count": 16,
   "id": "21d39a74",
   "metadata": {},
   "outputs": [
    {
     "name": "stdout",
     "output_type": "stream",
     "text": [
      "[2, 3, 5, 4, 1, 7]\n"
     ]
    }
   ],
   "source": [
    "nums = [2, 5, 1, 3, 4, 7]\n",
    "n = 3\n",
    "shuffled_nums = shuffle_array(nums, n)\n",
    "print(shuffled_nums)\n"
   ]
  },
  {
   "cell_type": "code",
   "execution_count": null,
   "id": "f51db7cc",
   "metadata": {},
   "outputs": [],
   "source": []
  }
 ],
 "metadata": {
  "kernelspec": {
   "display_name": "Python 3 (ipykernel)",
   "language": "python",
   "name": "python3"
  },
  "language_info": {
   "codemirror_mode": {
    "name": "ipython",
    "version": 3
   },
   "file_extension": ".py",
   "mimetype": "text/x-python",
   "name": "python",
   "nbconvert_exporter": "python",
   "pygments_lexer": "ipython3",
   "version": "3.9.7"
  }
 },
 "nbformat": 4,
 "nbformat_minor": 5
}
