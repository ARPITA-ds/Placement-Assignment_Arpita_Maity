{
 "cells": [
  {
   "cell_type": "code",
   "execution_count": 10,
   "id": "8bb53c0e",
   "metadata": {},
   "outputs": [],
   "source": [
    "#Question-01\n",
    "def isIsomorphic(s, t):\n",
    "    if len(s) != len(t):\n",
    "        return False\n",
    "    \n",
    "    charMapS = {}\n",
    "    charMapT = {}\n",
    "    \n",
    "    for i in range(len(s)):\n",
    "        chS = s[i]\n",
    "        chT = t[i]\n",
    "        \n",
    "        if chS not in charMapS and chT not in charMapT:\n",
    "            charMapS[chS] = chT\n",
    "            charMapT[chT] = chS\n",
    "        elif charMapS.get(chS) != chT or charMapT.get(chT) != chS:\n",
    "            return False\n",
    "    \n",
    "    return True\n"
   ]
  },
  {
   "cell_type": "code",
   "execution_count": 11,
   "id": "4650e07a",
   "metadata": {},
   "outputs": [
    {
     "name": "stdout",
     "output_type": "stream",
     "text": [
      "True\n"
     ]
    }
   ],
   "source": [
    "s = \"egg\"\n",
    "t = \"add\"\n",
    "print(isIsomorphic(s, t))\n"
   ]
  },
  {
   "cell_type": "code",
   "execution_count": 12,
   "id": "d55f6deb",
   "metadata": {},
   "outputs": [],
   "source": [
    "#Question-02\n",
    "def isStrobogrammatic(num):\n",
    "    valid_pairs = {'0': '0', '1': '1', '6': '9', '8': '8', '9': '6'}\n",
    "    left = 0\n",
    "    right = len(num) - 1\n",
    "    \n",
    "    while left <= right:\n",
    "        if num[left] not in valid_pairs or num[right] != valid_pairs[num[left]]:\n",
    "            return False\n",
    "        left += 1\n",
    "        right -= 1\n",
    "    \n",
    "    return True\n"
   ]
  },
  {
   "cell_type": "code",
   "execution_count": 13,
   "id": "42e54987",
   "metadata": {},
   "outputs": [
    {
     "name": "stdout",
     "output_type": "stream",
     "text": [
      "True\n"
     ]
    }
   ],
   "source": [
    "num = \"69\"\n",
    "print(isStrobogrammatic(num))\n"
   ]
  },
  {
   "cell_type": "code",
   "execution_count": 14,
   "id": "64b646b8",
   "metadata": {},
   "outputs": [],
   "source": [
    "#Question-03\n",
    "def addStrings(num1, num2):\n",
    "    i = len(num1) - 1\n",
    "    j = len(num2) - 1\n",
    "    carry = 0\n",
    "    result = ''\n",
    "    \n",
    "    while i >= 0 or j >= 0:\n",
    "        x = int(num1[i]) if i >= 0 else 0\n",
    "        y = int(num2[j]) if j >= 0 else 0\n",
    "        \n",
    "        sum = x + y + carry\n",
    "        result = str(sum % 10) + result\n",
    "        carry = sum // 10\n",
    "        \n",
    "        i -= 1\n",
    "        j -= 1\n",
    "    \n",
    "    if carry > 0:\n",
    "        result = str(carry) + result\n",
    "    \n",
    "    return result[::-1]\n"
   ]
  },
  {
   "cell_type": "code",
   "execution_count": 15,
   "id": "f7608127",
   "metadata": {},
   "outputs": [
    {
     "name": "stdout",
     "output_type": "stream",
     "text": [
      "431\n"
     ]
    }
   ],
   "source": [
    "num1 = \"11\"\n",
    "num2 = \"123\"\n",
    "print(addStrings(num1, num2))\n"
   ]
  },
  {
   "cell_type": "code",
   "execution_count": 16,
   "id": "0ffa80ee",
   "metadata": {},
   "outputs": [],
   "source": [
    "#Question-04\n",
    "def reverseWords(s):\n",
    "    words = s.split()\n",
    "    reversed_words = []\n",
    "    \n",
    "    for word in words:\n",
    "        reversed_word = word[::-1]\n",
    "        reversed_words.append(reversed_word)\n",
    "    \n",
    "    reversed_sentence = ' '.join(reversed_words)\n",
    "    return reversed_sentence\n"
   ]
  },
  {
   "cell_type": "code",
   "execution_count": 17,
   "id": "b3f92a4b",
   "metadata": {},
   "outputs": [
    {
     "name": "stdout",
     "output_type": "stream",
     "text": [
      "s'teL ekat edoCteeL tsetnoc\n"
     ]
    }
   ],
   "source": [
    "s = \"Let's take LeetCode contest\"\n",
    "print(reverseWords(s))\n"
   ]
  },
  {
   "cell_type": "code",
   "execution_count": 18,
   "id": "816ae2b1",
   "metadata": {},
   "outputs": [],
   "source": [
    "#Question-05\n",
    "def reverseStr(s, k):\n",
    "    chars = list(s)\n",
    "    n = len(chars)\n",
    "    \n",
    "    for i in range(0, n, 2*k):\n",
    "        start = i\n",
    "        end = min(i + k - 1, n - 1)\n",
    "        \n",
    "        while start < end:\n",
    "            chars[start], chars[end] = chars[end], chars[start]\n",
    "            start += 1\n",
    "            end -= 1\n",
    "    \n",
    "    return ''.join(chars)\n"
   ]
  },
  {
   "cell_type": "code",
   "execution_count": 19,
   "id": "19f3f9aa",
   "metadata": {},
   "outputs": [
    {
     "name": "stdout",
     "output_type": "stream",
     "text": [
      "bacdfeg\n"
     ]
    }
   ],
   "source": [
    "s = \"abcdefg\"\n",
    "k = 2\n",
    "print(reverseStr(s, k))\n"
   ]
  },
  {
   "cell_type": "code",
   "execution_count": 20,
   "id": "42378630",
   "metadata": {},
   "outputs": [],
   "source": [
    "#Question-06\n",
    "def rotateString(s, goal):\n",
    "    if len(s) != len(goal):\n",
    "        return False\n",
    "    \n",
    "    s_concat = s + s\n",
    "    \n",
    "    if goal in s_concat:\n",
    "        return True\n",
    "    \n",
    "    return False\n"
   ]
  },
  {
   "cell_type": "code",
   "execution_count": 21,
   "id": "adb1084f",
   "metadata": {},
   "outputs": [
    {
     "name": "stdout",
     "output_type": "stream",
     "text": [
      "True\n"
     ]
    }
   ],
   "source": [
    "s = \"abcde\"\n",
    "goal = \"cdeab\"\n",
    "print(rotateString(s, goal))\n"
   ]
  },
  {
   "cell_type": "code",
   "execution_count": 22,
   "id": "54f40651",
   "metadata": {},
   "outputs": [],
   "source": [
    "#Question-07\n",
    "def backspaceCompare(s, t):\n",
    "    stack_s = []\n",
    "    stack_t = []\n",
    "    \n",
    "    for char in s:\n",
    "        if char != '#':\n",
    "            stack_s.append(char)\n",
    "        elif stack_s:\n",
    "            stack_s.pop()\n",
    "    \n",
    "    for char in t:\n",
    "        if char != '#':\n",
    "            stack_t.append(char)\n",
    "        elif stack_t:\n",
    "            stack_t.pop()\n",
    "    \n",
    "    if len(stack_s) != len(stack_t):\n",
    "        return False\n",
    "    \n",
    "    for char_s, char_t in zip(stack_s, stack_t):\n",
    "        if char_s != char_t:\n",
    "            return False\n",
    "    \n",
    "    return True\n"
   ]
  },
  {
   "cell_type": "code",
   "execution_count": 23,
   "id": "c2c8fca2",
   "metadata": {},
   "outputs": [
    {
     "name": "stdout",
     "output_type": "stream",
     "text": [
      "True\n"
     ]
    }
   ],
   "source": [
    "s = \"ab#c\"\n",
    "t = \"ad#c\"\n",
    "print(backspaceCompare(s, t))\n"
   ]
  },
  {
   "cell_type": "code",
   "execution_count": 24,
   "id": "554d1b44",
   "metadata": {},
   "outputs": [],
   "source": [
    "#Question-08\n",
    "def checkStraightLine(coordinates):\n",
    "    if len(coordinates) <= 2:\n",
    "        return True\n",
    "\n",
    "    x0, y0 = coordinates[0]\n",
    "    x1, y1 = coordinates[1]\n",
    "    for i in range(2, len(coordinates)):\n",
    "        x, y = coordinates[i]\n",
    "        # Check if the current point lies on the same line\n",
    "        if (y1 - y0) * (x - x0) != (y - y0) * (x1 - x0):\n",
    "            return False\n",
    "\n",
    "    return True\n"
   ]
  },
  {
   "cell_type": "code",
   "execution_count": 25,
   "id": "d6fdffa4",
   "metadata": {},
   "outputs": [
    {
     "name": "stdout",
     "output_type": "stream",
     "text": [
      "True\n"
     ]
    }
   ],
   "source": [
    "coordinates = [[1,2],[2,3],[3,4],[4,5],[5,6],[6,7]]\n",
    "print(checkStraightLine(coordinates))\n"
   ]
  },
  {
   "cell_type": "code",
   "execution_count": null,
   "id": "deb7ea7a",
   "metadata": {},
   "outputs": [],
   "source": []
  }
 ],
 "metadata": {
  "kernelspec": {
   "display_name": "Python 3 (ipykernel)",
   "language": "python",
   "name": "python3"
  },
  "language_info": {
   "codemirror_mode": {
    "name": "ipython",
    "version": 3
   },
   "file_extension": ".py",
   "mimetype": "text/x-python",
   "name": "python",
   "nbconvert_exporter": "python",
   "pygments_lexer": "ipython3",
   "version": "3.9.7"
  }
 },
 "nbformat": 4,
 "nbformat_minor": 5
}
