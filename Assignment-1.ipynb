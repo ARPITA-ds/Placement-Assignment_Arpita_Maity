{
 "cells": [
  {
   "cell_type": "code",
   "execution_count": 1,
   "id": "2b8604ea",
   "metadata": {},
   "outputs": [
    {
     "name": "stdout",
     "output_type": "stream",
     "text": [
      "[0, 1]\n"
     ]
    }
   ],
   "source": [
    "#Question-1\n",
    "def twoSum(nums, target):\n",
    "    # Create a dictionary to store the complement of each number and its index\n",
    "    complement_map = {}\n",
    "\n",
    "    # Iterate through the array\n",
    "    for i, num in enumerate(nums):\n",
    "        # Calculate the complement of the current number\n",
    "        complement = target - num\n",
    "\n",
    "        # Check if the complement exists in the dictionary\n",
    "        if complement in complement_map:\n",
    "            # Return the indices of the two numbers\n",
    "            return [complement_map[complement], i]\n",
    "\n",
    "        # Store the current number and its index in the dictionary\n",
    "        complement_map[num] = i\n",
    "\n",
    "    # If no solution is found, return an empty list\n",
    "    return []\n",
    "\n",
    "# Example usage\n",
    "nums = [2, 7, 11, 15]\n",
    "target = 9\n",
    "result = twoSum(nums, target)\n",
    "print(result)  # Output: [0, 1]\n"
   ]
  },
  {
   "cell_type": "code",
   "execution_count": 2,
   "id": "2757241f",
   "metadata": {},
   "outputs": [
    {
     "name": "stdout",
     "output_type": "stream",
     "text": [
      "2\n",
      "[2, 2]\n"
     ]
    }
   ],
   "source": [
    "#Question-2\n",
    "def removeElement(nums, val):\n",
    "    # Initialize two pointers\n",
    "    i = 0  # Pointer for the current element\n",
    "    j = 0  # Pointer for the position to place the next non-val element\n",
    "\n",
    "    # Iterate through the array\n",
    "    while i < len(nums):\n",
    "        # If the current element is not equal to val, move it to the next available position\n",
    "        if nums[i] != val:\n",
    "            nums[j] = nums[i]\n",
    "            j += 1\n",
    "        \n",
    "        i += 1\n",
    "\n",
    "    # Return the number of elements not equal to val\n",
    "    return j\n",
    "\n",
    "\n",
    "nums = [3, 2, 2, 3]\n",
    "val = 3\n",
    "k = removeElement(nums, val)\n",
    "print(k)  \n",
    "print(nums[:k])  \n"
   ]
  },
  {
   "cell_type": "code",
   "execution_count": 3,
   "id": "97a0f24c",
   "metadata": {},
   "outputs": [
    {
     "name": "stdout",
     "output_type": "stream",
     "text": [
      "2\n"
     ]
    }
   ],
   "source": [
    "#Question-3\n",
    "def searchInsert(nums, target):\n",
    "    left = 0\n",
    "    right = len(nums) - 1\n",
    "\n",
    "    while left <= right:\n",
    "        mid = (left + right) // 2\n",
    "\n",
    "        if nums[mid] == target:\n",
    "            return mid\n",
    "        elif nums[mid] < target:\n",
    "            left = mid + 1\n",
    "        else:\n",
    "            right = mid - 1\n",
    "\n",
    "    return left\n",
    "\n",
    "\n",
    "nums = [1, 3, 5, 6]\n",
    "target = 5\n",
    "index = searchInsert(nums, target)\n",
    "print(index) \n"
   ]
  },
  {
   "cell_type": "code",
   "execution_count": 4,
   "id": "2d583828",
   "metadata": {},
   "outputs": [
    {
     "name": "stdout",
     "output_type": "stream",
     "text": [
      "[1, 2, 4]\n"
     ]
    }
   ],
   "source": [
    "def plusOne(digits):\n",
    "    n = len(digits)\n",
    "\n",
    "    # Iterate from the rightmost digit\n",
    "    for i in range(n - 1, -1, -1):\n",
    "        # Increment the current digit\n",
    "        digits[i] += 1\n",
    "\n",
    "        # If there is no carry, we are done\n",
    "        if digits[i] < 10:\n",
    "            return digits\n",
    "\n",
    "        # Otherwise, there is a carry, so set the current digit to 0\n",
    "        digits[i] = 0\n",
    "\n",
    "    # If we reach this point, there is a carry from the leftmost digit\n",
    "    return [1] + digits\n",
    "\n",
    "\n",
    "digits = [1, 2, 3]\n",
    "result = plusOne(digits)\n",
    "print(result)  \n"
   ]
  },
  {
   "cell_type": "code",
   "execution_count": 5,
   "id": "c8430244",
   "metadata": {},
   "outputs": [
    {
     "name": "stdout",
     "output_type": "stream",
     "text": [
      "[1, 2, 2, 3, 5, 6]\n"
     ]
    }
   ],
   "source": [
    "def merge(nums1, m, nums2, n):\n",
    "    # Initialize two pointers for nums1 and nums2\n",
    "    p1 = m - 1\n",
    "    p2 = n - 1\n",
    "\n",
    "    # Iterate from the end of the merged array\n",
    "    for i in range(m + n - 1, -1, -1):\n",
    "        if p1 >= 0 and (p2 < 0 or nums1[p1] >= nums2[p2]):\n",
    "            # If there are still elements in nums1 or nums2[p2] is smaller, place nums1[p1] in the merged array\n",
    "            nums1[i] = nums1[p1]\n",
    "            p1 -= 1\n",
    "        else:\n",
    "            # Otherwise, place nums2[p2] in the merged array\n",
    "            nums1[i] = nums2[p2]\n",
    "            p2 -= 1\n",
    "\n",
    "# Example usage\n",
    "nums1 = [1, 2, 3, 0, 0, 0]\n",
    "m = 3\n",
    "nums2 = [2, 5, 6]\n",
    "n = 3\n",
    "\n",
    "merge(nums1, m, nums2, n)\n",
    "print(nums1)  \n"
   ]
  },
  {
   "cell_type": "code",
   "execution_count": 6,
   "id": "2b7d6869",
   "metadata": {},
   "outputs": [
    {
     "name": "stdout",
     "output_type": "stream",
     "text": [
      "True\n"
     ]
    }
   ],
   "source": [
    "def containsDuplicate(nums):\n",
    "    num_set = set()\n",
    "\n",
    "    for num in nums:\n",
    "        if num in num_set:\n",
    "            return True\n",
    "        num_set.add(num)\n",
    "\n",
    "    return False\n",
    "\n",
    "\n",
    "nums = [1, 2, 3, 1]\n",
    "result = containsDuplicate(nums)\n",
    "print(result) \n"
   ]
  },
  {
   "cell_type": "code",
   "execution_count": 7,
   "id": "15d12877",
   "metadata": {},
   "outputs": [
    {
     "name": "stdout",
     "output_type": "stream",
     "text": [
      "[1, 3, 12, 0, 0]\n"
     ]
    }
   ],
   "source": [
    "def moveZeroes(nums):\n",
    "    n = len(nums)\n",
    "    i = 0  # Pointer for non-zero elements\n",
    "    j = 0  # Pointer for the position to place the next non-zero element\n",
    "\n",
    "    # Iterate through the array\n",
    "    while i < n:\n",
    "        if nums[i] != 0:\n",
    "            nums[j] = nums[i]\n",
    "            j += 1\n",
    "        \n",
    "        i += 1\n",
    "\n",
    "    # Fill the remaining positions with zeros\n",
    "    while j < n:\n",
    "        nums[j] = 0\n",
    "        j += 1\n",
    "\n",
    "\n",
    "nums = [0, 1, 0, 3, 12]\n",
    "moveZeroes(nums)\n",
    "print(nums)  \n"
   ]
  },
  {
   "cell_type": "code",
   "execution_count": 8,
   "id": "8d54e37d",
   "metadata": {},
   "outputs": [
    {
     "name": "stdout",
     "output_type": "stream",
     "text": [
      "[2, 3]\n"
     ]
    }
   ],
   "source": [
    "def findErrorNums(nums):\n",
    "    i = 0\n",
    "    n = len(nums)\n",
    "\n",
    "    # Perform cyclic sort\n",
    "    while i < n:\n",
    "        correct_index = nums[i] - 1\n",
    "\n",
    "        # If the number is not already at the correct index, swap it\n",
    "        if nums[i] != nums[correct_index]:\n",
    "            nums[i], nums[correct_index] = nums[correct_index], nums[i]\n",
    "        else:\n",
    "            i += 1\n",
    "\n",
    "    # Find the number that occurs twice and the number that is missing\n",
    "    for i in range(n):\n",
    "        if nums[i] != i + 1:\n",
    "            return [nums[i], i + 1]\n",
    "\n",
    "\n",
    "nums = [1, 2, 2, 4]\n",
    "result = findErrorNums(nums)\n",
    "print(result)  "
   ]
  },
  {
   "cell_type": "code",
   "execution_count": null,
   "id": "5d026759",
   "metadata": {},
   "outputs": [],
   "source": []
  }
 ],
 "metadata": {
  "kernelspec": {
   "display_name": "Python 3 (ipykernel)",
   "language": "python",
   "name": "python3"
  },
  "language_info": {
   "codemirror_mode": {
    "name": "ipython",
    "version": 3
   },
   "file_extension": ".py",
   "mimetype": "text/x-python",
   "name": "python",
   "nbconvert_exporter": "python",
   "pygments_lexer": "ipython3",
   "version": "3.9.7"
  }
 },
 "nbformat": 4,
 "nbformat_minor": 5
}
